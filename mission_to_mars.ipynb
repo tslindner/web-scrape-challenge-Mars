{
 "cells": [
  {
   "cell_type": "code",
   "execution_count": 46,
   "metadata": {},
   "outputs": [],
   "source": [
    "import pandas as pd\n",
    "import requests\n",
    "from bs4 import BeautifulSoup as bs\n",
    "from splinter import Browser\n",
    "from pprint import pprint\n",
    "import json"
   ]
  },
  {
   "cell_type": "code",
   "execution_count": 2,
   "metadata": {},
   "outputs": [],
   "source": [
    "# 1 = NASA Mars News\n",
    "# 2 = JPL Mars Space Images\n",
    "# 3 = Mars Weather\n",
    "# 4 = Mars Facts\n",
    "# 5 = Mars Hemispheres"
   ]
  },
  {
   "cell_type": "code",
   "execution_count": 3,
   "metadata": {},
   "outputs": [],
   "source": [
    "url1 = \"https://mars.nasa.gov/news/\"\n",
    "url2 = \"https://www.jpl.nasa.gov/spaceimages/?search=&category=Mars\"\n",
    "url3 = \"https://twitter.com/marswxreport?lang=en\"\n",
    "url4 = \"https://space-facts.com/mars/\"\n",
    "url5 = \"https://astrogeology.usgs.gov/search/results?q=hemisphere+enhanced&k1=target&v1=Mars\""
   ]
  },
  {
   "cell_type": "code",
   "execution_count": 4,
   "metadata": {},
   "outputs": [],
   "source": [
    "def soupify(url):\n",
    "    browser = Browser(\"chrome\")\n",
    "    browser.visit(url)\n",
    "    html_code = browser.html\n",
    "    soup = bs(html_code, \"html.parser\")\n",
    "    return soup\n",
    "    browser.windows[0].close()\n",
    "\n",
    "soup1 = soupify(url1)\n",
    "soup2 = soupify(url2)\n",
    "soup3 = soupify(url3)\n",
    "soup4 = soupify(url4)\n",
    "soup5 = soupify(url5)"
   ]
  },
  {
   "cell_type": "code",
   "execution_count": 5,
   "metadata": {},
   "outputs": [],
   "source": [
    "# 1 Mars news"
   ]
  },
  {
   "cell_type": "code",
   "execution_count": 6,
   "metadata": {},
   "outputs": [],
   "source": [
    "news_title = soup1.find(\"div\", class_=\"content_title\").text.strip()\n",
    "news_p = soup1.find(\"div\", class_=\"article_teaser_body\").text.strip()"
   ]
  },
  {
   "cell_type": "code",
   "execution_count": null,
   "metadata": {},
   "outputs": [],
   "source": []
  },
  {
   "cell_type": "code",
   "execution_count": 7,
   "metadata": {},
   "outputs": [],
   "source": [
    "# 2 JPL featured image"
   ]
  },
  {
   "cell_type": "code",
   "execution_count": 8,
   "metadata": {},
   "outputs": [],
   "source": [
    "featured_image_url = soup2.find(\"article\", class_=\"carousel_item\")"
   ]
  },
  {
   "cell_type": "code",
   "execution_count": 9,
   "metadata": {},
   "outputs": [],
   "source": [
    "featured_image_url = featured_image_url['style'][23:-3]"
   ]
  },
  {
   "cell_type": "code",
   "execution_count": 10,
   "metadata": {},
   "outputs": [],
   "source": [
    "featured_image_url = \"https://www.jpl.nasa.gov\" + featured_image_url"
   ]
  },
  {
   "cell_type": "code",
   "execution_count": null,
   "metadata": {},
   "outputs": [],
   "source": []
  },
  {
   "cell_type": "code",
   "execution_count": 11,
   "metadata": {},
   "outputs": [],
   "source": [
    "# 3 Mars weather"
   ]
  },
  {
   "cell_type": "code",
   "execution_count": 12,
   "metadata": {},
   "outputs": [],
   "source": [
    "mars_weather = soup3.find(\"p\", class_=\"TweetTextSize TweetTextSize--normal js-tweet-text tweet-text\").text"
   ]
  },
  {
   "cell_type": "code",
   "execution_count": null,
   "metadata": {},
   "outputs": [],
   "source": []
  },
  {
   "cell_type": "code",
   "execution_count": 13,
   "metadata": {},
   "outputs": [],
   "source": [
    "# 4 Mars facts"
   ]
  },
  {
   "cell_type": "code",
   "execution_count": 14,
   "metadata": {},
   "outputs": [],
   "source": [
    "mars_facts_dict = {\"Fields\": [],\n",
    "                  \"Values\": []}"
   ]
  },
  {
   "cell_type": "code",
   "execution_count": 15,
   "metadata": {},
   "outputs": [],
   "source": [
    "mars_facts = soup4.find_all(\"table\", class_=\"tablepress tablepress-id-mars\")[0].find_all(\"tr\")"
   ]
  },
  {
   "cell_type": "code",
   "execution_count": 16,
   "metadata": {},
   "outputs": [],
   "source": [
    "for i in range(len(mars_facts)):\n",
    "\n",
    "    field = mars_facts[i].find_all(\"td\")[0].text.strip()\n",
    "    value = mars_facts[i].find_all(\"td\")[1].text.strip()\n",
    "    \n",
    "    \n",
    "    \n",
    "    mars_facts_dict[\"Fields\"].append(field)\n",
    "    mars_facts_dict[\"Values\"].append(value)\n",
    "    "
   ]
  },
  {
   "cell_type": "code",
   "execution_count": 17,
   "metadata": {},
   "outputs": [],
   "source": [
    "facts_df = pd.DataFrame(mars_facts_dict)"
   ]
  },
  {
   "cell_type": "code",
   "execution_count": 18,
   "metadata": {},
   "outputs": [],
   "source": [
    "facts_html = facts_df.to_html()\n"
   ]
  },
  {
   "cell_type": "code",
   "execution_count": null,
   "metadata": {},
   "outputs": [],
   "source": []
  },
  {
   "cell_type": "code",
   "execution_count": 19,
   "metadata": {},
   "outputs": [],
   "source": [
    "# 5 Mars hemispheres"
   ]
  },
  {
   "cell_type": "code",
   "execution_count": 20,
   "metadata": {},
   "outputs": [],
   "source": [
    "hemi_image_urls = []\n",
    "\n",
    "hemi_base_url = \"https://astrogeology.usgs.gov\"\n",
    "\n",
    "hemi_exts = soup5.find_all(\"div\", class_=\"description\")\n",
    "\n",
    "for ext in hemi_exts:\n",
    "    loop_dict = {}\n",
    "    \n",
    "    hemi_title = ext.a.text[:-9]\n",
    "    \n",
    "    hemi_ext = ext.a[\"href\"]\n",
    "    hemi_url_1 = hemi_base_url + hemi_ext\n",
    "    \n",
    "    hemi_soup = soupify(hemi_url_1)\n",
    "    hemi_url_2 = hemi_soup.find(\"div\", class_=\"downloads\").a[\"href\"]\n",
    "    \n",
    "    loop_dict[\"title\"] = hemi_title\n",
    "    loop_dict[\"img_url\"] = hemi_url_2\n",
    "    \n",
    "    hemi_image_urls.append(loop_dict)"
   ]
  },
  {
   "cell_type": "code",
   "execution_count": 21,
   "metadata": {},
   "outputs": [
    {
     "data": {
      "text/plain": [
       "[{'img_url': 'http://astropedia.astrogeology.usgs.gov/download/Mars/Viking/cerberus_enhanced.tif/full.jpg',\n",
       "  'title': 'Cerberus Hemisphere'},\n",
       " {'img_url': 'http://astropedia.astrogeology.usgs.gov/download/Mars/Viking/schiaparelli_enhanced.tif/full.jpg',\n",
       "  'title': 'Schiaparelli Hemisphere'},\n",
       " {'img_url': 'http://astropedia.astrogeology.usgs.gov/download/Mars/Viking/syrtis_major_enhanced.tif/full.jpg',\n",
       "  'title': 'Syrtis Major Hemisphere'},\n",
       " {'img_url': 'http://astropedia.astrogeology.usgs.gov/download/Mars/Viking/valles_marineris_enhanced.tif/full.jpg',\n",
       "  'title': 'Valles Marineris Hemisphere'}]"
      ]
     },
     "execution_count": 21,
     "metadata": {},
     "output_type": "execute_result"
    }
   ],
   "source": [
    "hemi_image_urls"
   ]
  },
  {
   "cell_type": "code",
   "execution_count": null,
   "metadata": {},
   "outputs": [],
   "source": []
  },
  {
   "cell_type": "code",
   "execution_count": 52,
   "metadata": {},
   "outputs": [],
   "source": [
    "results = {}\n",
    "results[\"news_title\"] = news_title\n",
    "results[\"news_p\"] = news_p\n",
    "results[\"featured_image_url\"] = featured_image_url\n",
    "results[\"mars_weather\"] = mars_weather\n",
    "results[\"facts_html\"] = facts_html\n",
    "results[\"hemi_image_urls\"] = hemi_image_urls"
   ]
  },
  {
   "cell_type": "code",
   "execution_count": 53,
   "metadata": {},
   "outputs": [],
   "source": [
    "test = json.dumps(results)"
   ]
  },
  {
   "cell_type": "code",
   "execution_count": 58,
   "metadata": {},
   "outputs": [
    {
     "name": "stdout",
     "output_type": "stream",
     "text": [
      "('{\"news_title\": \"NASA CubeSats Steer Toward Mars\", \"news_p\": \"NASA has '\n",
      " 'achieved a first for the class of tiny spacecraft known as CubeSats, which '\n",
      " 'are opening new access to space.\", \"featured_image_url\": '\n",
      " '\"https://www.jpl.nasa.gov/spaceimages/images/wallpaper/PIA14317-1920x1200.jpg\", '\n",
      " '\"mars_weather\": \"Saturn\\\\u2019s planet-sized moon Titan, its encircling '\n",
      " 'atmosphere backlit by the Sun, as seen 12 years ago today. Details: '\n",
      " 'https://go.nasa.gov/2HadMcO\\\\u00a0 '\n",
      " '#SaturnSaturdaypic.twitter.com/zeVCa1N2vd\", \"facts_html\": \"<table '\n",
      " 'border=\\\\\"1\\\\\" class=\\\\\"dataframe\\\\\">\\\\n  <thead>\\\\n    <tr '\n",
      " 'style=\\\\\"text-align: right;\\\\\">\\\\n      <th></th>\\\\n      '\n",
      " '<th>Fields</th>\\\\n      <th>Values</th>\\\\n    </tr>\\\\n  </thead>\\\\n  '\n",
      " '<tbody>\\\\n    <tr>\\\\n      <th>0</th>\\\\n      <td>Equatorial '\n",
      " 'Diameter:</td>\\\\n      <td>6,792 km</td>\\\\n    </tr>\\\\n    <tr>\\\\n      '\n",
      " '<th>1</th>\\\\n      <td>Polar Diameter:</td>\\\\n      <td>6,752 km</td>\\\\n    '\n",
      " '</tr>\\\\n    <tr>\\\\n      <th>2</th>\\\\n      <td>Mass:</td>\\\\n      <td>6.42 '\n",
      " 'x 10^23 kg (10.7% Earth)</td>\\\\n    </tr>\\\\n    <tr>\\\\n      '\n",
      " '<th>3</th>\\\\n      <td>Moons:</td>\\\\n      <td>2 (Phobos &amp; '\n",
      " 'Deimos)</td>\\\\n    </tr>\\\\n    <tr>\\\\n      <th>4</th>\\\\n      <td>Orbit '\n",
      " 'Distance:</td>\\\\n      <td>227,943,824 km (1.52 AU)</td>\\\\n    </tr>\\\\n    '\n",
      " '<tr>\\\\n      <th>5</th>\\\\n      <td>Orbit Period:</td>\\\\n      <td>687 days '\n",
      " '(1.9 years)</td>\\\\n    </tr>\\\\n    <tr>\\\\n      <th>6</th>\\\\n      '\n",
      " '<td>Surface Temperature:</td>\\\\n      <td>-153 to 20 \\\\u00b0C</td>\\\\n    '\n",
      " '</tr>\\\\n    <tr>\\\\n      <th>7</th>\\\\n      <td>First Record:</td>\\\\n      '\n",
      " '<td>2nd millennium BC</td>\\\\n    </tr>\\\\n    <tr>\\\\n      <th>8</th>\\\\n      '\n",
      " '<td>Recorded By:</td>\\\\n      <td>Egyptian astronomers</td>\\\\n    </tr>\\\\n  '\n",
      " '</tbody>\\\\n</table>\", \"hemi_image_urls\": [{\"title\": \"Cerberus Hemisphere\", '\n",
      " '\"img_url\": '\n",
      " '\"http://astropedia.astrogeology.usgs.gov/download/Mars/Viking/cerberus_enhanced.tif/full.jpg\"}, '\n",
      " '{\"title\": \"Schiaparelli Hemisphere\", \"img_url\": '\n",
      " '\"http://astropedia.astrogeology.usgs.gov/download/Mars/Viking/schiaparelli_enhanced.tif/full.jpg\"}, '\n",
      " '{\"title\": \"Syrtis Major Hemisphere\", \"img_url\": '\n",
      " '\"http://astropedia.astrogeology.usgs.gov/download/Mars/Viking/syrtis_major_enhanced.tif/full.jpg\"}, '\n",
      " '{\"title\": \"Valles Marineris Hemisphere\", \"img_url\": '\n",
      " '\"http://astropedia.astrogeology.usgs.gov/download/Mars/Viking/valles_marineris_enhanced.tif/full.jpg\"}]}')\n"
     ]
    }
   ],
   "source": [
    "pprint(test, indent=4)"
   ]
  },
  {
   "cell_type": "code",
   "execution_count": 62,
   "metadata": {},
   "outputs": [
    {
     "data": {
      "text/plain": [
       "'NASA has achieved a first for the class of tiny spacecraft known as CubeSats, which are opening new access to space.'"
      ]
     },
     "execution_count": 62,
     "metadata": {},
     "output_type": "execute_result"
    }
   ],
   "source": [
    "results[\"news_p\"]"
   ]
  },
  {
   "cell_type": "code",
   "execution_count": null,
   "metadata": {},
   "outputs": [],
   "source": []
  }
 ],
 "metadata": {
  "kernelspec": {
   "display_name": "Python 3",
   "language": "python",
   "name": "python3"
  },
  "language_info": {
   "codemirror_mode": {
    "name": "ipython",
    "version": 3
   },
   "file_extension": ".py",
   "mimetype": "text/x-python",
   "name": "python",
   "nbconvert_exporter": "python",
   "pygments_lexer": "ipython3",
   "version": "3.6.4"
  }
 },
 "nbformat": 4,
 "nbformat_minor": 2
}
